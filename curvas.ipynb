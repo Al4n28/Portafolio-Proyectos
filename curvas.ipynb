{
 "cells": [
  {
   "cell_type": "code",
   "execution_count": 1,
   "metadata": {},
   "outputs": [],
   "source": [
    "import numpy as np \n",
    "import pandas as pd\n",
    "import seaborn as sns\n",
    "import matplotlib.pyplot as plt\n",
    "import plotly.express as px\n",
    "import plotly.graph_objects as go"
   ]
  },
  {
   "cell_type": "code",
   "execution_count": 2,
   "metadata": {},
   "outputs": [],
   "source": [
    "df_catalogo = pd.read_csv(\"catalogo.csv\", sep=\";\", encoding=\"latin1\")\n",
    "\n",
    "df_data_a = pd.read_csv(\"dataset_a.csv\", sep=\";\", encoding=\"latin1\")\n",
    "\n",
    "df_data_2021 = pd.read_csv(\"dataset_a_2021.csv\", sep=\";\", encoding=\"latin1\")"
   ]
  },
  {
   "cell_type": "code",
   "execution_count": 3,
   "metadata": {},
   "outputs": [
    {
     "name": "stdout",
     "output_type": "stream",
     "text": [
      "<class 'pandas.core.frame.DataFrame'>\n",
      "RangeIndex: 53 entries, 0 to 52\n",
      "Data columns (total 15 columns):\n",
      " #   Column      Non-Null Count  Dtype \n",
      "---  ------      --------------  ----- \n",
      " 0   hito        53 non-null     int64 \n",
      " 1   oid         53 non-null     object\n",
      " 2   nombre      53 non-null     object\n",
      " 3   s1          53 non-null     int64 \n",
      " 4   s2          53 non-null     int64 \n",
      " 5   s3          53 non-null     int64 \n",
      " 6   s4          53 non-null     int64 \n",
      " 7   k1          53 non-null     int64 \n",
      " 8   k2          53 non-null     int64 \n",
      " 9   k3          53 non-null     int64 \n",
      " 10  k4          53 non-null     int64 \n",
      " 11  skill       53 non-null     int64 \n",
      " 12  knowledge   53 non-null     int64 \n",
      " 13  complexity  53 non-null     int64 \n",
      " 14  item        53 non-null     object\n",
      "dtypes: int64(12), object(3)\n",
      "memory usage: 6.3+ KB\n"
     ]
    }
   ],
   "source": [
    "df_catalogo.info()"
   ]
  },
  {
   "cell_type": "code",
   "execution_count": 4,
   "metadata": {},
   "outputs": [
    {
     "name": "stdout",
     "output_type": "stream",
     "text": [
      "<class 'pandas.core.frame.DataFrame'>\n",
      "RangeIndex: 467 entries, 0 to 466\n",
      "Columns: 110 entries, rut to estado\n",
      "dtypes: float64(37), int64(55), object(18)\n",
      "memory usage: 401.5+ KB\n"
     ]
    }
   ],
   "source": [
    "df_data_a.info()"
   ]
  },
  {
   "cell_type": "code",
   "execution_count": 5,
   "metadata": {},
   "outputs": [
    {
     "name": "stdout",
     "output_type": "stream",
     "text": [
      "<class 'pandas.core.frame.DataFrame'>\n",
      "RangeIndex: 839 entries, 0 to 838\n",
      "Data columns (total 76 columns):\n",
      " #   Column    Non-Null Count  Dtype  \n",
      "---  ------    --------------  -----  \n",
      " 0   hito1     839 non-null    float64\n",
      " 1   hito2     839 non-null    float64\n",
      " 2   hito3     839 non-null    int64  \n",
      " 3   hito4     839 non-null    int64  \n",
      " 4   seq1      667 non-null    object \n",
      " 5   seq2      11 non-null     object \n",
      " 6   seq3      0 non-null      float64\n",
      " 7   seq4      0 non-null      float64\n",
      " 8   c1        667 non-null    object \n",
      " 9   c2        11 non-null     object \n",
      " 10  c3        0 non-null      float64\n",
      " 11  c4        0 non-null      float64\n",
      " 12  p1        667 non-null    object \n",
      " 13  p2        11 non-null     object \n",
      " 14  p3        0 non-null      float64\n",
      " 15  p4        0 non-null      float64\n",
      " 16  nrc       839 non-null    int64  \n",
      " 17  exitosos  839 non-null    int64  \n",
      " 18  fallidos  839 non-null    int64  \n",
      " 19  envios    839 non-null    int64  \n",
      " 20  e0        839 non-null    int64  \n",
      " 21  e1        839 non-null    int64  \n",
      " 22  e2        839 non-null    int64  \n",
      " 23  e3        839 non-null    int64  \n",
      " 24  e4        839 non-null    int64  \n",
      " 25  e5        839 non-null    int64  \n",
      " 26  e6        839 non-null    int64  \n",
      " 27  e7        839 non-null    int64  \n",
      " 28  e8        839 non-null    int64  \n",
      " 29  e9        839 non-null    int64  \n",
      " 30  e10       839 non-null    int64  \n",
      " 31  e11       839 non-null    int64  \n",
      " 32  e12       839 non-null    int64  \n",
      " 33  e13       839 non-null    int64  \n",
      " 34  e14       839 non-null    int64  \n",
      " 35  e15       839 non-null    int64  \n",
      " 36  e16       839 non-null    int64  \n",
      " 37  e17       839 non-null    int64  \n",
      " 38  e18       839 non-null    int64  \n",
      " 39  e19       839 non-null    int64  \n",
      " 40  e20       839 non-null    int64  \n",
      " 41  e21       839 non-null    int64  \n",
      " 42  e22       839 non-null    int64  \n",
      " 43  e23       839 non-null    int64  \n",
      " 44  e24       839 non-null    int64  \n",
      " 45  e25       839 non-null    int64  \n",
      " 46  e26       839 non-null    int64  \n",
      " 47  e27       839 non-null    int64  \n",
      " 48  e28       839 non-null    int64  \n",
      " 49  e29       839 non-null    int64  \n",
      " 50  e30       839 non-null    int64  \n",
      " 51  e31       839 non-null    int64  \n",
      " 52  e32       839 non-null    int64  \n",
      " 53  e33       839 non-null    int64  \n",
      " 54  e34       839 non-null    int64  \n",
      " 55  e35       839 non-null    int64  \n",
      " 56  e36       839 non-null    int64  \n",
      " 57  e37       839 non-null    int64  \n",
      " 58  e38       839 non-null    int64  \n",
      " 59  e39       839 non-null    int64  \n",
      " 60  e40       839 non-null    int64  \n",
      " 61  e41       839 non-null    int64  \n",
      " 62  e42       839 non-null    int64  \n",
      " 63  e43       839 non-null    int64  \n",
      " 64  e44       839 non-null    int64  \n",
      " 65  e45       839 non-null    int64  \n",
      " 66  e46       839 non-null    int64  \n",
      " 67  e47       839 non-null    int64  \n",
      " 68  e48       839 non-null    int64  \n",
      " 69  e49       839 non-null    int64  \n",
      " 70  e50       839 non-null    int64  \n",
      " 71  e51       839 non-null    int64  \n",
      " 72  e52       839 non-null    int64  \n",
      " 73  programa  839 non-null    object \n",
      " 74  sol1      839 non-null    float64\n",
      " 75  id        839 non-null    int64  \n",
      "dtypes: float64(9), int64(60), object(7)\n",
      "memory usage: 498.3+ KB\n"
     ]
    }
   ],
   "source": [
    "df_data_2021.info()"
   ]
  },
  {
   "cell_type": "code",
   "execution_count": 19,
   "metadata": {},
   "outputs": [
    {
     "name": "stdout",
     "output_type": "stream",
     "text": [
      "[16.82441113490364, 4.398286937901499, 0.0, 0.0]\n",
      "[7.80469784150091, 4.366257329533448, 0.0, 0.0]\n",
      "            hito1       hito2  hito3  hito4\n",
      "count  467.000000  467.000000  467.0  467.0\n",
      "mean    16.824411    4.398287    0.0    0.0\n",
      "std      7.804698    4.366257    0.0    0.0\n",
      "min      0.000000    0.000000    0.0    0.0\n",
      "25%     14.000000    1.000000    0.0    0.0\n",
      "50%     19.000000    3.000000    0.0    0.0\n",
      "75%     22.000000    6.000000    0.0    0.0\n",
      "max     27.000000   28.000000    0.0    0.0\n"
     ]
    },
    {
     "data": {
      "image/png": "[encoded data removed]",
      "text/plain": [
       "<Figure size 648x288 with 2 Axes>"
      ]
     },
     "metadata": {
      "needs_background": "light"
     },
     "output_type": "display_data"
    }
   ],
   "source": [
    "df_notas = pd.DataFrame()\n",
    "df_notas = df_data_a[[ 'hito1', 'hito2', 'hito3', 'hito4']].copy()\n",
    "df_notas.columns = [ 'hito1', 'hito2', 'hito3', 'hito4']\n",
    "a= df_notas.describe()\n",
    "mean=[df_notas.loc[:, 'hito1'].mean(),df_notas.loc[:, 'hito2'].mean(),df_notas.loc[:, 'hito3'].mean(),df_notas.loc[:, 'hito4'].mean()]\n",
    "std=[df_notas.loc[:, 'hito1'].std(),df_notas.loc[:, 'hito2'].std(),df_notas.loc[:, 'hito3'].std(),df_notas.loc[:, 'hito4'].std()]\n",
    "print(mean)\n",
    "print(std)\n",
    "print(a)\n",
    "fig, axs = plt.subplots(nrows=1, ncols=2, figsize=(9, 4))\n",
    "\n",
    "axs[0].violinplot(df_notas,\n",
    "                  showmeans=True,\n",
    "                  showmedians=True, vert=False)\n",
    "axs[0].set_title('Gráfico de Violín')\n",
    "\n",
    "for ax in axs:\n",
    "    ax.yaxis.grid(True)\n",
    "    ax.set_xticks(np.arange(0,29,7))\n",
    "    ylabels = [\"Hito1\",\"Hito2\",\"Hito3\",\"Hito4\"]\n",
    "    ax.set_yticks(range(1,5), labels=ylabels)\n",
    "    ax.set_xlabel('Four separate samples')\n",
    "    ax.set_ylabel('Observed values')\n",
    "\n",
    "fig.tight_layout()\n",
    "plt.show()"
   ]
  },
  {
   "cell_type": "code",
   "execution_count": 24,
   "metadata": {},
   "outputs": [
    {
     "name": "stdout",
     "output_type": "stream",
     "text": [
      "[5.945824411134903, 5.6207708779443255, 5.475160599571734, 5.659957173447537, 4.752248394004283, 4.6057815845824415, 5.989293361884369, 5.2970877944325485, 5.394860813704496, 5.33104925053533]\n",
      "[1.161432589558909, 1.3067573818868412, 1.4449496649497056, 1.148894971185056, 2.272444156542859, 2.338002150383234, 1.8442501219917462, 1.28033998251104, 1.4546858324543972, 1.2875599789081353]\n"
     ]
    }
   ],
   "source": [
    "df_pruebas = pd.DataFrame()\n",
    "df_pruebas = df_data_a[['rut', 'sol1', 'sol2', 'sol3', 'sol4', 'tarea1', 'tarea2', 'controles', 'np', 'examen', 'final', 'estado']].copy()\n",
    "df_pruebas.columns = ['rut', 'solemne1', 'solemne2', 'solemne3', 'solemne4', 'tarea1', 'tarea2', 'nota_controles', 'nota_presentacion', 'nota_examen', 'nota_final', 'estado']\n",
    "df_pruebas.head()\n",
    "mean = [df_pruebas.loc[:, i].mean() for i in ['solemne1', 'solemne2', 'solemne3', 'solemne4', 'tarea1', 'tarea2', 'nota_controles', 'nota_presentacion', 'nota_examen', 'nota_final'] ]\n",
    "std = [df_pruebas.loc[:, i].std() for i in ['solemne1', 'solemne2', 'solemne3', 'solemne4', 'tarea1', 'tarea2', 'nota_controles', 'nota_presentacion', 'nota_examen', 'nota_final'] ]\n",
    "print(mean)\n",
    "print(std)\n",
    "#mean=[df_notas.loc[:, 'hito1'].mean(),df_notas.loc[:, 'hito2'].mean(),df_notas.loc[:, 'hito3'].mean(),df_notas.loc[:, 'hito4'].mean()]\n",
    "#std=[df_notas.loc[:, 'hito1'].std(),df_notas.loc[:, 'hito2'].std(),df_notas.loc[:, 'hito3'].std(),df_notas.loc[:, 'hito4'].std()]\n"
   ]
  },
  {
   "cell_type": "code",
   "execution_count": 9,
   "metadata": {},
   "outputs": [
    {
     "data": {
      "text/html": [
       "<div>\n",
       "<style scoped>\n",
       "    .dataframe tbody tr th:only-of-type {\n",
       "        vertical-align: middle;\n",
       "    }\n",
       "\n",
       "    .dataframe tbody tr th {\n",
       "        vertical-align: top;\n",
       "    }\n",
       "\n",
       "    .dataframe thead th {\n",
       "        text-align: right;\n",
       "    }\n",
       "</style>\n",
       "<table border=\"1\" class=\"dataframe\">\n",
       "  <thead>\n",
       "    <tr style=\"text-align: right;\">\n",
       "      <th></th>\n",
       "      <th>rut</th>\n",
       "      <th>solemne1</th>\n",
       "      <th>solemne2</th>\n",
       "      <th>solemne3</th>\n",
       "      <th>solemne4</th>\n",
       "      <th>tarea1</th>\n",
       "      <th>tarea2</th>\n",
       "      <th>nota_controles</th>\n",
       "      <th>nota_presentacion</th>\n",
       "      <th>nota_examen</th>\n",
       "      <th>nota_final</th>\n",
       "    </tr>\n",
       "  </thead>\n",
       "  <tbody>\n",
       "    <tr>\n",
       "      <th>count</th>\n",
       "      <td>467.000000</td>\n",
       "      <td>467.000000</td>\n",
       "      <td>467.000000</td>\n",
       "      <td>467.000000</td>\n",
       "      <td>467.000000</td>\n",
       "      <td>467.000000</td>\n",
       "      <td>467.000000</td>\n",
       "      <td>467.000000</td>\n",
       "      <td>467.000000</td>\n",
       "      <td>467.000000</td>\n",
       "      <td>467.000000</td>\n",
       "    </tr>\n",
       "    <tr>\n",
       "      <th>mean</th>\n",
       "      <td>233.000000</td>\n",
       "      <td>5.945824</td>\n",
       "      <td>5.620771</td>\n",
       "      <td>5.475161</td>\n",
       "      <td>5.659957</td>\n",
       "      <td>4.752248</td>\n",
       "      <td>4.605782</td>\n",
       "      <td>5.989293</td>\n",
       "      <td>5.297088</td>\n",
       "      <td>5.394861</td>\n",
       "      <td>5.331049</td>\n",
       "    </tr>\n",
       "    <tr>\n",
       "      <th>std</th>\n",
       "      <td>134.955548</td>\n",
       "      <td>1.161433</td>\n",
       "      <td>1.306757</td>\n",
       "      <td>1.444950</td>\n",
       "      <td>1.148895</td>\n",
       "      <td>2.272444</td>\n",
       "      <td>2.338002</td>\n",
       "      <td>1.844250</td>\n",
       "      <td>1.280340</td>\n",
       "      <td>1.454686</td>\n",
       "      <td>1.287560</td>\n",
       "    </tr>\n",
       "    <tr>\n",
       "      <th>min</th>\n",
       "      <td>0.000000</td>\n",
       "      <td>1.000000</td>\n",
       "      <td>1.000000</td>\n",
       "      <td>1.000000</td>\n",
       "      <td>1.000000</td>\n",
       "      <td>1.000000</td>\n",
       "      <td>1.000000</td>\n",
       "      <td>1.000000</td>\n",
       "      <td>1.000000</td>\n",
       "      <td>1.000000</td>\n",
       "      <td>1.000000</td>\n",
       "    </tr>\n",
       "    <tr>\n",
       "      <th>25%</th>\n",
       "      <td>116.500000</td>\n",
       "      <td>5.600000</td>\n",
       "      <td>5.200000</td>\n",
       "      <td>5.000000</td>\n",
       "      <td>5.300000</td>\n",
       "      <td>3.000000</td>\n",
       "      <td>2.500000</td>\n",
       "      <td>5.900000</td>\n",
       "      <td>4.730000</td>\n",
       "      <td>5.100000</td>\n",
       "      <td>4.900000</td>\n",
       "    </tr>\n",
       "    <tr>\n",
       "      <th>50%</th>\n",
       "      <td>233.000000</td>\n",
       "      <td>6.300000</td>\n",
       "      <td>6.000000</td>\n",
       "      <td>6.000000</td>\n",
       "      <td>6.000000</td>\n",
       "      <td>5.800000</td>\n",
       "      <td>5.400000</td>\n",
       "      <td>7.000000</td>\n",
       "      <td>5.610000</td>\n",
       "      <td>5.700000</td>\n",
       "      <td>5.600000</td>\n",
       "    </tr>\n",
       "    <tr>\n",
       "      <th>75%</th>\n",
       "      <td>349.500000</td>\n",
       "      <td>6.800000</td>\n",
       "      <td>6.400000</td>\n",
       "      <td>6.400000</td>\n",
       "      <td>6.400000</td>\n",
       "      <td>6.800000</td>\n",
       "      <td>6.900000</td>\n",
       "      <td>7.000000</td>\n",
       "      <td>6.215000</td>\n",
       "      <td>6.300000</td>\n",
       "      <td>6.200000</td>\n",
       "    </tr>\n",
       "    <tr>\n",
       "      <th>max</th>\n",
       "      <td>466.000000</td>\n",
       "      <td>7.000000</td>\n",
       "      <td>7.000000</td>\n",
       "      <td>7.000000</td>\n",
       "      <td>7.000000</td>\n",
       "      <td>7.000000</td>\n",
       "      <td>7.000000</td>\n",
       "      <td>7.000000</td>\n",
       "      <td>7.000000</td>\n",
       "      <td>7.000000</td>\n",
       "      <td>7.000000</td>\n",
       "    </tr>\n",
       "  </tbody>\n",
       "</table>\n",
       "</div>"
      ],
      "text/plain": [
       "              rut    solemne1    solemne2    solemne3    solemne4      tarea1  \\\n",
       "count  467.000000  467.000000  467.000000  467.000000  467.000000  467.000000   \n",
       "mean   233.000000    5.945824    5.620771    5.475161    5.659957    4.752248   \n",
       "std    134.955548    1.161433    1.306757    1.444950    1.148895    2.272444   \n",
       "min      0.000000    1.000000    1.000000    1.000000    1.000000    1.000000   \n",
       "25%    116.500000    5.600000    5.200000    5.000000    5.300000    3.000000   \n",
       "50%    233.000000    6.300000    6.000000    6.000000    6.000000    5.800000   \n",
       "75%    349.500000    6.800000    6.400000    6.400000    6.400000    6.800000   \n",
       "max    466.000000    7.000000    7.000000    7.000000    7.000000    7.000000   \n",
       "\n",
       "           tarea2  nota_controles  nota_presentacion  nota_examen  nota_final  \n",
       "count  467.000000      467.000000         467.000000   467.000000  467.000000  \n",
       "mean     4.605782        5.989293           5.297088     5.394861    5.331049  \n",
       "std      2.338002        1.844250           1.280340     1.454686    1.287560  \n",
       "min      1.000000        1.000000           1.000000     1.000000    1.000000  \n",
       "25%      2.500000        5.900000           4.730000     5.100000    4.900000  \n",
       "50%      5.400000        7.000000           5.610000     5.700000    5.600000  \n",
       "75%      6.900000        7.000000           6.215000     6.300000    6.200000  \n",
       "max      7.000000        7.000000           7.000000     7.000000    7.000000  "
      ]
     },
     "execution_count": 9,
     "metadata": {},
     "output_type": "execute_result"
    }
   ],
   "source": [
    "df_notas.describe()\n"
   ]
  },
  {
   "cell_type": "code",
   "execution_count": null,
   "metadata": {},
   "outputs": [
    {
     "name": "stdout",
     "output_type": "stream",
     "text": [
      "<class 'pandas.core.frame.DataFrame'>\n",
      "RangeIndex: 1704 entries, 0 to 1703\n",
      "Data columns (total 8 columns):\n",
      " #   Column     Non-Null Count  Dtype  \n",
      "---  ------     --------------  -----  \n",
      " 0   country    1704 non-null   object \n",
      " 1   continent  1704 non-null   object \n",
      " 2   year       1704 non-null   int64  \n",
      " 3   lifeExp    1704 non-null   float64\n",
      " 4   pop        1704 non-null   int64  \n",
      " 5   gdpPercap  1704 non-null   float64\n",
      " 6   iso_alpha  1704 non-null   object \n",
      " 7   iso_num    1704 non-null   int64  \n",
      "dtypes: float64(2), int64(3), object(3)\n",
      "memory usage: 106.6+ KB\n"
     ]
    }
   ],
   "source": [
    "df = px.data.gapminder()\n",
    "df.info()"
   ]
  },
  {
   "cell_type": "code",
   "execution_count": null,
   "metadata": {},
   "outputs": [
    {
     "name": "stdout",
     "output_type": "stream",
     "text": [
      "<class 'pandas.core.frame.DataFrame'>\n",
      "Int64Index: 24 entries, 60 to 1103\n",
      "Data columns (total 8 columns):\n",
      " #   Column     Non-Null Count  Dtype  \n",
      "---  ------     --------------  -----  \n",
      " 0   country    24 non-null     object \n",
      " 1   continent  24 non-null     object \n",
      " 2   year       24 non-null     int64  \n",
      " 3   lifeExp    24 non-null     float64\n",
      " 4   pop        24 non-null     int64  \n",
      " 5   gdpPercap  24 non-null     float64\n",
      " 6   iso_alpha  24 non-null     object \n",
      " 7   iso_num    24 non-null     int64  \n",
      "dtypes: float64(2), int64(3), object(3)\n",
      "memory usage: 1.7+ KB\n"
     ]
    }
   ],
   "source": [
    "df = px.data.gapminder().query(\"continent == 'Oceania'\")\n",
    "df.info()"
   ]
  }
 ],
 "metadata": {
  "kernelspec": {
   "display_name": "Python 3",
   "language": "python",
   "name": "python3"
  },
  "language_info": {
   "codemirror_mode": {
    "name": "ipython",
    "version": 3
   },
   "file_extension": ".py",
   "mimetype": "text/x-python",
   "name": "python",
   "nbconvert_exporter": "python",
   "pygments_lexer": "ipython3",
   "version": "3.10.2"
  }
 },
 "nbformat": 4,
 "nbformat_minor": 2
}
